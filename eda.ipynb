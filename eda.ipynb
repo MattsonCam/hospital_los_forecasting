{
 "cells": [
  {
   "cell_type": "code",
   "execution_count": 1,
   "metadata": {
    "execution": {
     "iopub.execute_input": "2025-08-09T22:21:00.345369Z",
     "iopub.status.busy": "2025-08-09T22:21:00.345267Z",
     "iopub.status.idle": "2025-08-09T22:21:02.571763Z",
     "shell.execute_reply": "2025-08-09T22:21:02.571347Z"
    },
    "jukit_cell_id": "Ajw9seAlGs"
   },
   "outputs": [
    {
     "name": "stderr",
     "output_type": "stream",
     "text": [
      "Setting default log level to \"WARN\".\n",
      "To adjust logging level use sc.setLogLevel(newLevel). For SparkR, use setLogLevel(newLevel).\n",
      "25/08/09 16:21:01 WARN NativeCodeLoader: Unable to load native-hadoop library for your platform... using builtin-java classes where applicable\n"
     ]
    }
   ],
   "source": [
    "import pathlib\n",
    "\n",
    "import matplotlib.pyplot as plt\n",
    "import pandas as pd\n",
    "import plotly.express as px\n",
    "from pandas.plotting import scatter_matrix\n",
    "from pyspark.sql import SparkSession\n",
    "from pyspark.sql import functions as F\n",
    "\n",
    "spark = SparkSession.builder.getOrCreate()"
   ]
  },
  {
   "cell_type": "markdown",
   "metadata": {
    "jukit_cell_id": "8Z94CN2E5K"
   },
   "source": [
    "# Inputs"
   ]
  },
  {
   "cell_type": "code",
   "execution_count": 2,
   "metadata": {
    "execution": {
     "iopub.execute_input": "2025-08-09T22:21:02.573572Z",
     "iopub.status.busy": "2025-08-09T22:21:02.573272Z",
     "iopub.status.idle": "2025-08-09T22:21:05.174763Z",
     "shell.execute_reply": "2025-08-09T22:21:05.174453Z"
    },
    "jukit_cell_id": "lhCSrGaMr7"
   },
   "outputs": [
    {
     "data": {
      "text/plain": [
       "[Row(case_id=1, Hospital_code=8, Hospital_type_code='c', City_Code_Hospital=3, Hospital_region_code='Z', Available Extra Rooms in Hospital=3, Department='radiotherapy', Ward_Type='R', Ward_Facility_Code='F', Bed Grade=2.0, patientid=31397, City_Code_Patient=7.0, Type of Admission='Emergency', Severity of Illness='Extreme', Visitors with Patient=2, Age='51-60', Admission_Deposit=4911.0, Stay='0-10'),\n",
       " Row(case_id=2, Hospital_code=2, Hospital_type_code='c', City_Code_Hospital=5, Hospital_region_code='Z', Available Extra Rooms in Hospital=2, Department='radiotherapy', Ward_Type='S', Ward_Facility_Code='F', Bed Grade=2.0, patientid=31397, City_Code_Patient=7.0, Type of Admission='Trauma', Severity of Illness='Extreme', Visitors with Patient=2, Age='51-60', Admission_Deposit=5954.0, Stay='41-50'),\n",
       " Row(case_id=3, Hospital_code=10, Hospital_type_code='e', City_Code_Hospital=1, Hospital_region_code='X', Available Extra Rooms in Hospital=2, Department='anesthesia', Ward_Type='S', Ward_Facility_Code='E', Bed Grade=2.0, patientid=31397, City_Code_Patient=7.0, Type of Admission='Trauma', Severity of Illness='Extreme', Visitors with Patient=2, Age='51-60', Admission_Deposit=4745.0, Stay='31-40')]"
      ]
     },
     "execution_count": 2,
     "metadata": {},
     "output_type": "execute_result"
    }
   ],
   "source": [
    "train_path = pathlib.Path(\"healthcare/train_data.csv\")\n",
    "\n",
    "df = spark.read.csv(str(train_path), header=True, inferSchema=True)\n",
    "df.head(3)"
   ]
  },
  {
   "cell_type": "markdown",
   "metadata": {
    "jukit_cell_id": "PdYtlBhMd8"
   },
   "source": [
    "# Outputs"
   ]
  },
  {
   "cell_type": "code",
   "execution_count": 3,
   "metadata": {
    "execution": {
     "iopub.execute_input": "2025-08-09T22:21:05.175964Z",
     "iopub.status.busy": "2025-08-09T22:21:05.175850Z",
     "iopub.status.idle": "2025-08-09T22:21:05.177986Z",
     "shell.execute_reply": "2025-08-09T22:21:05.177720Z"
    },
    "jukit_cell_id": "UbjMzpnl6s"
   },
   "outputs": [],
   "source": [
    "figure_path = pathlib.Path(\"figures\")\n",
    "\n",
    "univariate_figure_path = figure_path / \"univariate_figure_path\"\n",
    "univariate_figure_path.mkdir(parents=True, exist_ok=True)"
   ]
  },
  {
   "cell_type": "code",
   "execution_count": 4,
   "metadata": {
    "execution": {
     "iopub.execute_input": "2025-08-09T22:21:05.178942Z",
     "iopub.status.busy": "2025-08-09T22:21:05.178844Z",
     "iopub.status.idle": "2025-08-09T22:21:05.181920Z",
     "shell.execute_reply": "2025-08-09T22:21:05.181618Z"
    },
    "jukit_cell_id": "km42nWKqKk"
   },
   "outputs": [
    {
     "name": "stdout",
     "output_type": "stream",
     "text": [
      "Training data columns:\n",
      "['case_id', 'Hospital_code', 'Hospital_type_code', 'City_Code_Hospital', 'Hospital_region_code', 'Available Extra Rooms in Hospital', 'Department', 'Ward_Type', 'Ward_Facility_Code', 'Bed Grade', 'patientid', 'City_Code_Patient', 'Type of Admission', 'Severity of Illness', 'Visitors with Patient', 'Age', 'Admission_Deposit', 'Stay']\n"
     ]
    }
   ],
   "source": [
    "print(f\"Training data columns:\\n{df.columns}\")"
   ]
  },
  {
   "cell_type": "markdown",
   "metadata": {
    "jukit_cell_id": "7scGRFQRSe"
   },
   "source": [
    "# Null Count Distributions"
   ]
  },
  {
   "cell_type": "code",
   "execution_count": 5,
   "metadata": {
    "execution": {
     "iopub.execute_input": "2025-08-09T22:21:05.182929Z",
     "iopub.status.busy": "2025-08-09T22:21:05.182823Z",
     "iopub.status.idle": "2025-08-09T22:21:05.242533Z",
     "shell.execute_reply": "2025-08-09T22:21:05.242124Z"
    },
    "jukit_cell_id": "WNwBfqRwfW"
   },
   "outputs": [],
   "source": [
    "null_count_per_row = df.select(\n",
    "    sum(F.when(F.col(c).isNull(), 1).otherwise(0) for c in df.columns).alias(\n",
    "        \"null_count\"\n",
    "    )\n",
    ")"
   ]
  },
  {
   "cell_type": "code",
   "execution_count": 6,
   "metadata": {
    "execution": {
     "iopub.execute_input": "2025-08-09T22:21:05.243995Z",
     "iopub.status.busy": "2025-08-09T22:21:05.243870Z",
     "iopub.status.idle": "2025-08-09T22:21:06.001969Z",
     "shell.execute_reply": "2025-08-09T22:21:06.001610Z"
    },
    "jukit_cell_id": "UJwv2N53VG"
   },
   "outputs": [
    {
     "data": {
      "text/plain": [
       "[Row(null_count=0, count=313793), Row(null_count=1, count=4645)]"
      ]
     },
     "execution_count": 6,
     "metadata": {},
     "output_type": "execute_result"
    }
   ],
   "source": [
    "number_distinct_null_counts = (\n",
    "    null_count_per_row.groupBy(\"null_count\").count().orderBy(\"null_count\")\n",
    ")\n",
    "\n",
    "number_distinct_null_counts.head(5)"
   ]
  },
  {
   "cell_type": "code",
   "execution_count": 7,
   "metadata": {
    "execution": {
     "iopub.execute_input": "2025-08-09T22:21:06.003297Z",
     "iopub.status.busy": "2025-08-09T22:21:06.003182Z",
     "iopub.status.idle": "2025-08-09T22:21:06.059354Z",
     "shell.execute_reply": "2025-08-09T22:21:06.058930Z"
    },
    "jukit_cell_id": "7b5bcq6Zot"
   },
   "outputs": [],
   "source": [
    "null_count_per_column = df.select(\n",
    "    [F.sum(F.when(F.col(c).isNull(), 1).otherwise(0)).alias(c) for c in df.columns]\n",
    ")"
   ]
  },
  {
   "cell_type": "code",
   "execution_count": 8,
   "metadata": {
    "execution": {
     "iopub.execute_input": "2025-08-09T22:21:06.061103Z",
     "iopub.status.busy": "2025-08-09T22:21:06.060767Z",
     "iopub.status.idle": "2025-08-09T22:21:06.401167Z",
     "shell.execute_reply": "2025-08-09T22:21:06.400863Z"
    },
    "jukit_cell_id": "9ya7KZmKgU"
   },
   "outputs": [
    {
     "data": {
      "text/plain": [
       "Row(case_id=0, Hospital_code=0, Hospital_type_code=0, City_Code_Hospital=0, Hospital_region_code=0, Available Extra Rooms in Hospital=0, Department=0, Ward_Type=0, Ward_Facility_Code=0, Bed Grade=113, patientid=0, City_Code_Patient=4532, Type of Admission=0, Severity of Illness=0, Visitors with Patient=0, Age=0, Admission_Deposit=0, Stay=0)"
      ]
     },
     "execution_count": 8,
     "metadata": {},
     "output_type": "execute_result"
    }
   ],
   "source": [
    "null_count_per_column.head()"
   ]
  },
  {
   "cell_type": "code",
   "execution_count": 9,
   "metadata": {
    "execution": {
     "iopub.execute_input": "2025-08-09T22:21:06.402238Z",
     "iopub.status.busy": "2025-08-09T22:21:06.402128Z",
     "iopub.status.idle": "2025-08-09T22:21:08.470629Z",
     "shell.execute_reply": "2025-08-09T22:21:08.470158Z"
    },
    "jukit_cell_id": "ZhDdb0g1EX"
   },
   "outputs": [],
   "source": [
    "cols_with_nulls = [\n",
    "    c\n",
    "    for c in null_count_per_column.columns\n",
    "    if null_count_per_column.filter(F.col(c) > 0).count() > 0\n",
    "]"
   ]
  },
  {
   "cell_type": "code",
   "execution_count": 10,
   "metadata": {
    "execution": {
     "iopub.execute_input": "2025-08-09T22:21:08.472228Z",
     "iopub.status.busy": "2025-08-09T22:21:08.471923Z",
     "iopub.status.idle": "2025-08-09T22:21:08.474388Z",
     "shell.execute_reply": "2025-08-09T22:21:08.474048Z"
    },
    "jukit_cell_id": "ZUdQvPJNOn"
   },
   "outputs": [
    {
     "name": "stdout",
     "output_type": "stream",
     "text": [
      "['Bed Grade', 'City_Code_Patient']\n"
     ]
    }
   ],
   "source": [
    "print(cols_with_nulls)"
   ]
  },
  {
   "cell_type": "code",
   "execution_count": 11,
   "metadata": {
    "execution": {
     "iopub.execute_input": "2025-08-09T22:21:08.475526Z",
     "iopub.status.busy": "2025-08-09T22:21:08.475307Z",
     "iopub.status.idle": "2025-08-09T22:21:08.477600Z",
     "shell.execute_reply": "2025-08-09T22:21:08.477299Z"
    },
    "jukit_cell_id": "UR97Hrl44K"
   },
   "outputs": [
    {
     "name": "stdout",
     "output_type": "stream",
     "text": [
      "Percentage of columns with nulls = 11.1%\n"
     ]
    }
   ],
   "source": [
    "prop_null_cols = 100 * len(cols_with_nulls) / len(df.columns)\n",
    "print(f\"Percentage of columns with nulls = {prop_null_cols:.1f}%\")"
   ]
  }
 ],
 "metadata": {
  "anaconda-cloud": {},
  "kernelspec": {
   "display_name": "python",
   "language": "python",
   "name": "python3"
  },
  "language_info": {
   "codemirror_mode": {
    "name": "ipython",
    "version": 3
   },
   "file_extension": ".py",
   "mimetype": "text/x-python",
   "name": "python",
   "nbconvert_exporter": "python",
   "pygments_lexer": "ipython3",
   "version": "3.11.11"
  }
 },
 "nbformat": 4,
 "nbformat_minor": 4
}
