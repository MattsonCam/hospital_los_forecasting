{
 "cells": [
  {
   "cell_type": "code",
   "execution_count": 1,
   "metadata": {
    "execution": {
     "iopub.execute_input": "2025-08-09T22:33:55.079340Z",
     "iopub.status.busy": "2025-08-09T22:33:55.079229Z",
     "iopub.status.idle": "2025-08-09T22:33:57.411616Z",
     "shell.execute_reply": "2025-08-09T22:33:57.411168Z"
    },
    "jukit_cell_id": "Ajw9seAlGs"
   },
   "outputs": [
    {
     "name": "stderr",
     "output_type": "stream",
     "text": [
      "Setting default log level to \"WARN\".\n",
      "To adjust logging level use sc.setLogLevel(newLevel). For SparkR, use setLogLevel(newLevel).\n",
      "25/08/09 16:33:56 WARN NativeCodeLoader: Unable to load native-hadoop library for your platform... using builtin-java classes where applicable\n"
     ]
    }
   ],
   "source": [
    "import pathlib\n",
    "\n",
    "import matplotlib.pyplot as plt\n",
    "import pandas as pd\n",
    "import plotly.express as px\n",
    "from pandas.plotting import scatter_matrix\n",
    "from pyspark.sql import SparkSession\n",
    "from pyspark.sql import functions as F\n",
    "\n",
    "spark = SparkSession.builder.getOrCreate()"
   ]
  },
  {
   "cell_type": "markdown",
   "metadata": {
    "jukit_cell_id": "8Z94CN2E5K"
   },
   "source": [
    "# Inputs"
   ]
  },
  {
   "cell_type": "code",
   "execution_count": 2,
   "metadata": {
    "execution": {
     "iopub.execute_input": "2025-08-09T22:33:57.413537Z",
     "iopub.status.busy": "2025-08-09T22:33:57.413228Z",
     "iopub.status.idle": "2025-08-09T22:34:00.043004Z",
     "shell.execute_reply": "2025-08-09T22:34:00.042627Z"
    },
    "jukit_cell_id": "lhCSrGaMr7"
   },
   "outputs": [
    {
     "data": {
      "text/plain": [
       "[Row(case_id=1, Hospital_code=8, Hospital_type_code='c', City_Code_Hospital=3, Hospital_region_code='Z', Available Extra Rooms in Hospital=3, Department='radiotherapy', Ward_Type='R', Ward_Facility_Code='F', Bed Grade=2.0, patientid=31397, City_Code_Patient=7.0, Type of Admission='Emergency', Severity of Illness='Extreme', Visitors with Patient=2, Age='51-60', Admission_Deposit=4911.0, Stay='0-10'),\n",
       " Row(case_id=2, Hospital_code=2, Hospital_type_code='c', City_Code_Hospital=5, Hospital_region_code='Z', Available Extra Rooms in Hospital=2, Department='radiotherapy', Ward_Type='S', Ward_Facility_Code='F', Bed Grade=2.0, patientid=31397, City_Code_Patient=7.0, Type of Admission='Trauma', Severity of Illness='Extreme', Visitors with Patient=2, Age='51-60', Admission_Deposit=5954.0, Stay='41-50'),\n",
       " Row(case_id=3, Hospital_code=10, Hospital_type_code='e', City_Code_Hospital=1, Hospital_region_code='X', Available Extra Rooms in Hospital=2, Department='anesthesia', Ward_Type='S', Ward_Facility_Code='E', Bed Grade=2.0, patientid=31397, City_Code_Patient=7.0, Type of Admission='Trauma', Severity of Illness='Extreme', Visitors with Patient=2, Age='51-60', Admission_Deposit=4745.0, Stay='31-40')]"
      ]
     },
     "execution_count": 2,
     "metadata": {},
     "output_type": "execute_result"
    }
   ],
   "source": [
    "train_path = pathlib.Path(\"healthcare/train_data.csv\")\n",
    "\n",
    "df = spark.read.csv(str(train_path), header=True, inferSchema=True)\n",
    "df.head(3)"
   ]
  },
  {
   "cell_type": "markdown",
   "metadata": {
    "jukit_cell_id": "PdYtlBhMd8"
   },
   "source": [
    "# Outputs"
   ]
  },
  {
   "cell_type": "code",
   "execution_count": 3,
   "metadata": {
    "execution": {
     "iopub.execute_input": "2025-08-09T22:34:00.044229Z",
     "iopub.status.busy": "2025-08-09T22:34:00.044116Z",
     "iopub.status.idle": "2025-08-09T22:34:00.046358Z",
     "shell.execute_reply": "2025-08-09T22:34:00.046063Z"
    },
    "jukit_cell_id": "UbjMzpnl6s"
   },
   "outputs": [],
   "source": [
    "figure_path = pathlib.Path(\"figures\")\n",
    "\n",
    "univariate_figure_path = figure_path / \"univariate_figure_path\"\n",
    "univariate_figure_path.mkdir(parents=True, exist_ok=True)"
   ]
  },
  {
   "cell_type": "code",
   "execution_count": 4,
   "metadata": {
    "execution": {
     "iopub.execute_input": "2025-08-09T22:34:00.047484Z",
     "iopub.status.busy": "2025-08-09T22:34:00.047275Z",
     "iopub.status.idle": "2025-08-09T22:34:00.050709Z",
     "shell.execute_reply": "2025-08-09T22:34:00.050338Z"
    },
    "jukit_cell_id": "km42nWKqKk"
   },
   "outputs": [
    {
     "name": "stdout",
     "output_type": "stream",
     "text": [
      "Training data columns:\n",
      "['case_id', 'Hospital_code', 'Hospital_type_code', 'City_Code_Hospital', 'Hospital_region_code', 'Available Extra Rooms in Hospital', 'Department', 'Ward_Type', 'Ward_Facility_Code', 'Bed Grade', 'patientid', 'City_Code_Patient', 'Type of Admission', 'Severity of Illness', 'Visitors with Patient', 'Age', 'Admission_Deposit', 'Stay']\n"
     ]
    }
   ],
   "source": [
    "print(f\"Training data columns:\\n{df.columns}\")"
   ]
  },
  {
   "cell_type": "markdown",
   "metadata": {
    "jukit_cell_id": "7scGRFQRSe"
   },
   "source": [
    "# Null Count Distributions"
   ]
  },
  {
   "cell_type": "code",
   "execution_count": 5,
   "metadata": {
    "execution": {
     "iopub.execute_input": "2025-08-09T22:34:00.051808Z",
     "iopub.status.busy": "2025-08-09T22:34:00.051689Z",
     "iopub.status.idle": "2025-08-09T22:34:00.107053Z",
     "shell.execute_reply": "2025-08-09T22:34:00.106712Z"
    },
    "jukit_cell_id": "WNwBfqRwfW"
   },
   "outputs": [],
   "source": [
    "null_count_per_row = df.select(\n",
    "    sum(F.when(F.col(c).isNull(), 1).otherwise(0) for c in df.columns).alias(\n",
    "        \"null_count\"\n",
    "    )\n",
    ")"
   ]
  },
  {
   "cell_type": "code",
   "execution_count": 6,
   "metadata": {
    "execution": {
     "iopub.execute_input": "2025-08-09T22:34:00.108579Z",
     "iopub.status.busy": "2025-08-09T22:34:00.108346Z",
     "iopub.status.idle": "2025-08-09T22:34:00.886639Z",
     "shell.execute_reply": "2025-08-09T22:34:00.886236Z"
    },
    "jukit_cell_id": "UJwv2N53VG"
   },
   "outputs": [
    {
     "data": {
      "text/plain": [
       "[Row(null_count=0, count=313793), Row(null_count=1, count=4645)]"
      ]
     },
     "execution_count": 6,
     "metadata": {},
     "output_type": "execute_result"
    }
   ],
   "source": [
    "number_distinct_null_counts = (\n",
    "    null_count_per_row.groupBy(\"null_count\").count().orderBy(\"null_count\")\n",
    ")\n",
    "\n",
    "number_distinct_null_counts.head(5)"
   ]
  },
  {
   "cell_type": "code",
   "execution_count": 7,
   "metadata": {
    "execution": {
     "iopub.execute_input": "2025-08-09T22:34:00.887978Z",
     "iopub.status.busy": "2025-08-09T22:34:00.887829Z",
     "iopub.status.idle": "2025-08-09T22:34:00.948252Z",
     "shell.execute_reply": "2025-08-09T22:34:00.947840Z"
    },
    "jukit_cell_id": "7b5bcq6Zot"
   },
   "outputs": [],
   "source": [
    "null_count_per_column = df.select(\n",
    "    [F.sum(F.when(F.col(c).isNull(), 1).otherwise(0)).alias(c) for c in df.columns]\n",
    ")"
   ]
  },
  {
   "cell_type": "code",
   "execution_count": 8,
   "metadata": {
    "execution": {
     "iopub.execute_input": "2025-08-09T22:34:00.949523Z",
     "iopub.status.busy": "2025-08-09T22:34:00.949388Z",
     "iopub.status.idle": "2025-08-09T22:34:01.291313Z",
     "shell.execute_reply": "2025-08-09T22:34:01.291021Z"
    },
    "jukit_cell_id": "9ya7KZmKgU"
   },
   "outputs": [
    {
     "data": {
      "text/plain": [
       "Row(case_id=0, Hospital_code=0, Hospital_type_code=0, City_Code_Hospital=0, Hospital_region_code=0, Available Extra Rooms in Hospital=0, Department=0, Ward_Type=0, Ward_Facility_Code=0, Bed Grade=113, patientid=0, City_Code_Patient=4532, Type of Admission=0, Severity of Illness=0, Visitors with Patient=0, Age=0, Admission_Deposit=0, Stay=0)"
      ]
     },
     "execution_count": 8,
     "metadata": {},
     "output_type": "execute_result"
    }
   ],
   "source": [
    "null_count_per_column.head()"
   ]
  },
  {
   "cell_type": "code",
   "execution_count": 9,
   "metadata": {
    "execution": {
     "iopub.execute_input": "2025-08-09T22:34:01.292499Z",
     "iopub.status.busy": "2025-08-09T22:34:01.292389Z",
     "iopub.status.idle": "2025-08-09T22:34:03.460865Z",
     "shell.execute_reply": "2025-08-09T22:34:03.460490Z"
    },
    "jukit_cell_id": "ZhDdb0g1EX"
   },
   "outputs": [],
   "source": [
    "cols_with_nulls = [\n",
    "    c\n",
    "    for c in null_count_per_column.columns\n",
    "    if null_count_per_column.filter(F.col(c) > 0).count() > 0\n",
    "]"
   ]
  },
  {
   "cell_type": "code",
   "execution_count": 10,
   "metadata": {
    "execution": {
     "iopub.execute_input": "2025-08-09T22:34:03.462373Z",
     "iopub.status.busy": "2025-08-09T22:34:03.462151Z",
     "iopub.status.idle": "2025-08-09T22:34:03.464411Z",
     "shell.execute_reply": "2025-08-09T22:34:03.464095Z"
    },
    "jukit_cell_id": "ZUdQvPJNOn"
   },
   "outputs": [
    {
     "name": "stdout",
     "output_type": "stream",
     "text": [
      "['Bed Grade', 'City_Code_Patient']\n"
     ]
    }
   ],
   "source": [
    "print(cols_with_nulls)"
   ]
  },
  {
   "cell_type": "code",
   "execution_count": 11,
   "metadata": {
    "execution": {
     "iopub.execute_input": "2025-08-09T22:34:03.465330Z",
     "iopub.status.busy": "2025-08-09T22:34:03.465228Z",
     "iopub.status.idle": "2025-08-09T22:34:03.467392Z",
     "shell.execute_reply": "2025-08-09T22:34:03.467078Z"
    },
    "jukit_cell_id": "UR97Hrl44K"
   },
   "outputs": [
    {
     "name": "stdout",
     "output_type": "stream",
     "text": [
      "Percentage of columns with nulls = 11.1%\n"
     ]
    }
   ],
   "source": [
    "prop_null_cols = 100 * len(cols_with_nulls) / len(df.columns)\n",
    "print(f\"Percentage of columns with nulls = {prop_null_cols:.1f}%\")"
   ]
  },
  {
   "cell_type": "markdown",
   "metadata": {
    "jukit_cell_id": "xS27Rc4qd0"
   },
   "source": [
    "It seems that these all may influence length of stay:\n",
    "- Location of the patient (Categorical e.g. city, region) (Use all location data at first. I hypothesize that outbreaks are typically contained in the same region, however certain conditions may be different in certain towns, such as miner injuries)\n",
    "- Condition of the bed (Categorical)\n",
    "- Department overseeing the case (Categorical) (Compare with the severity and type of admission)\n",
    "- Location where the patient came from\n",
    "- Type of admission (e.g. trauma, emergency, urgent) (thinking of combining this with severity of illness, as this will likely be more related) (should compare the counts of the cartesian product of this variable to the severity of illness variable)\n",
    "- Severity of illness (e.g. minor, moderate, extreme) (This will not be correlated with the number of rooms or the number of visitors)\n",
    "- Number of available rooms (This could be a measure of how likely you are to receive proper and timely care, and the chance of nosocomial infections)\n",
    "- Number of visitors with patient (This could also compromise the patient's health)\n",
    "- Bed Grade (I think this will affect how quickly a patient heals and how quickly they want to leave)\n",
    "- Age (This will definitely have an impact w.r.t. recovery)\n",
    "- Admission Deposit (This may depend on insurance, but I would expect this to be correlated with type of admission and severity of illness (and patient stay duration)\n",
    "- Case ID and Admission ID are useless\n",
    "\n",
    "Takeaways: Don't"
   ]
  },
  {
   "cell_type": "markdown",
   "metadata": {
    "jukit_cell_id": "fBfdNHb0hK"
   },
   "source": [
    "Need to determine if there are City Code Hospital values that exist in the training set, but not in the validation set."
   ]
  },
  {
   "cell_type": "markdown",
   "metadata": {
    "jukit_cell_id": "JdmuMbaejd"
   },
   "source": [
    "# Univariate Analysis\n",
    "Many of the features vary substantially, even with respect to length of stay variable (label)."
   ]
  },
  {
   "cell_type": "code",
   "execution_count": 12,
   "metadata": {
    "execution": {
     "iopub.execute_input": "2025-08-09T22:34:03.468644Z",
     "iopub.status.busy": "2025-08-09T22:34:03.468535Z",
     "iopub.status.idle": "2025-08-09T22:34:08.045379Z",
     "shell.execute_reply": "2025-08-09T22:34:08.045038Z"
    },
    "jukit_cell_id": "fxdblE4HVL"
   },
   "outputs": [
    {
     "name": "stdout",
     "output_type": "stream",
     "text": [
      "Number of unique Hospital_code values: 32"
     ]
    },
    {
     "name": "stdout",
     "output_type": "stream",
     "text": [
      "\n"
     ]
    },
    {
     "name": "stdout",
     "output_type": "stream",
     "text": [
      "Number of unique Hospital_type_code values: 7\n"
     ]
    },
    {
     "name": "stdout",
     "output_type": "stream",
     "text": [
      "Number of unique City_Code_Hospital values: 11\n"
     ]
    },
    {
     "name": "stdout",
     "output_type": "stream",
     "text": [
      "Number of unique Hospital_region_code values: 3\n"
     ]
    },
    {
     "name": "stdout",
     "output_type": "stream",
     "text": [
      "Number of unique Available Extra Rooms in Hospital values: 18\n"
     ]
    },
    {
     "name": "stdout",
     "output_type": "stream",
     "text": [
      "Number of unique Department values: 5\n"
     ]
    },
    {
     "name": "stdout",
     "output_type": "stream",
     "text": [
      "Number of unique Ward_Type values: 6\n"
     ]
    },
    {
     "name": "stdout",
     "output_type": "stream",
     "text": [
      "Number of unique Ward_Facility_Code values: 6\n"
     ]
    },
    {
     "name": "stdout",
     "output_type": "stream",
     "text": [
      "Number of unique Bed Grade values: 5\n"
     ]
    },
    {
     "name": "stdout",
     "output_type": "stream",
     "text": [
      "Number of unique City_Code_Patient values: 38\n"
     ]
    },
    {
     "name": "stdout",
     "output_type": "stream",
     "text": [
      "Number of unique Type of Admission values: 3\n"
     ]
    },
    {
     "name": "stdout",
     "output_type": "stream",
     "text": [
      "Number of unique Severity of Illness values: 3\n"
     ]
    },
    {
     "name": "stdout",
     "output_type": "stream",
     "text": [
      "Number of unique Visitors with Patient values: 28\n"
     ]
    },
    {
     "name": "stdout",
     "output_type": "stream",
     "text": [
      "Number of unique Age values: 10\n"
     ]
    },
    {
     "name": "stdout",
     "output_type": "stream",
     "text": [
      "Number of unique Stay values: 11\n"
     ]
    }
   ],
   "source": [
    "discrete_column_selection = [\n",
    "    \"Hospital_code\",\n",
    "    \"Hospital_type_code\",\n",
    "    \"City_Code_Hospital\",\n",
    "    \"Hospital_region_code\",\n",
    "    \"Available Extra Rooms in Hospital\",\n",
    "    \"Department\",\n",
    "    \"Ward_Type\",\n",
    "    \"Ward_Facility_Code\",\n",
    "    \"Bed Grade\",\n",
    "    \"City_Code_Patient\",\n",
    "    \"Type of Admission\",\n",
    "    \"Severity of Illness\",\n",
    "    \"Visitors with Patient\",\n",
    "    \"Age\",\n",
    "    \"Stay\",\n",
    "]\n",
    "\n",
    "for col in discrete_column_selection:\n",
    "    print(f\"Number of unique {col} values: {df.select(col).distinct().count()}\")\n",
    "\n",
    "    col_count_df = df.groupBy(col).agg(F.count(\"*\").alias(f\"{col}_count\")).na.drop()\n",
    "    mod_col_name = col.replace(\"_\", \" \")\n",
    "    y_col = f\"{col}_count\"\n",
    "    hover_data = {y_col: True}\n",
    "\n",
    "    fig = px.bar(\n",
    "        col_count_df.toPandas().sort_values(by=col, ascending=True),\n",
    "        x=col,\n",
    "        y=y_col,\n",
    "        hover_data=hover_data,\n",
    "    )\n",
    "    fig.update_layout(\n",
    "        title=f\"{mod_col_name} Distribution\",\n",
    "        xaxis_title=mod_col_name,\n",
    "        yaxis_title=\"Count\",\n",
    "    )\n",
    "\n",
    "    fig.update_xaxes(tickmode=\"linear\", dtick=1)\n",
    "\n",
    "    fig.write_html(\n",
    "        univariate_figure_path / f\"{col.replace(' ', '_').lower()}_distribution.html\",\n",
    "        full_html=True,\n",
    "        include_plotlyjs=\"embed\",\n",
    "    )"
   ]
  },
  {
   "cell_type": "markdown",
   "metadata": {
    "jukit_cell_id": "jC0V3xfOKH"
   },
   "source": [
    "## Log-Scaled Univariate Analysis"
   ]
  },
  {
   "cell_type": "code",
   "execution_count": 13,
   "metadata": {
    "execution": {
     "iopub.execute_input": "2025-08-09T22:34:08.046620Z",
     "iopub.status.busy": "2025-08-09T22:34:08.046520Z",
     "iopub.status.idle": "2025-08-09T22:34:08.523243Z",
     "shell.execute_reply": "2025-08-09T22:34:08.522922Z"
    },
    "jukit_cell_id": "u9u5fOBScE"
   },
   "outputs": [],
   "source": [
    "log_count_cols = [\n",
    "    \"Visitors with Patient\",\n",
    "    \"Available Extra Rooms in Hospital\",\n",
    "    \"City_Code_Patient\",\n",
    "]\n",
    "\n",
    "for col in log_count_cols:\n",
    "\n",
    "    col_count_df = df.groupBy(col).agg(F.count(\"*\").alias(f\"{col}_count\")).na.drop()\n",
    "    mod_col_name = col.replace(\"_\", \" \")\n",
    "    y_col = f\"{col}_count\"\n",
    "\n",
    "    log_count_col_name = f\"{col}_count_log\"\n",
    "    col_count_df = col_count_df.withColumn(\n",
    "        log_count_col_name, F.log(F.col(y_col) + F.lit(1))\n",
    "    )\n",
    "\n",
    "    hover_data = {y_col: True, log_count_col_name: True}\n",
    "\n",
    "    fig = px.bar(\n",
    "        col_count_df.toPandas().sort_values(by=col, ascending=True),\n",
    "        x=col,\n",
    "        y=log_count_col_name,\n",
    "        hover_data=hover_data,\n",
    "    )\n",
    "    fig.update_layout(\n",
    "        title=f\"Log-Scaled {mod_col_name} Distribution\",\n",
    "        xaxis_title=mod_col_name,\n",
    "        yaxis_title=\"Log of Count\",\n",
    "    )\n",
    "\n",
    "    fig.update_xaxes(tickmode=\"linear\", dtick=1)\n",
    "\n",
    "    fig.write_html(\n",
    "        univariate_figure_path\n",
    "        / f\"log_{col.replace(' ', '_').lower()}_distribution.html\",\n",
    "        full_html=True,\n",
    "        include_plotlyjs=\"embed\",\n",
    "    )"
   ]
  },
  {
   "cell_type": "markdown",
   "metadata": {
    "jukit_cell_id": "U4hcrlEmAD"
   },
   "source": [
    "## Distribution of Admission Deposits"
   ]
  },
  {
   "cell_type": "code",
   "execution_count": 14,
   "metadata": {
    "execution": {
     "iopub.execute_input": "2025-08-09T22:34:08.524638Z",
     "iopub.status.busy": "2025-08-09T22:34:08.524537Z",
     "iopub.status.idle": "2025-08-09T22:34:09.371947Z",
     "shell.execute_reply": "2025-08-09T22:34:09.371492Z"
    },
    "jukit_cell_id": "0RX5ZcMAks"
   },
   "outputs": [],
   "source": [
    "fig = px.violin(\n",
    "    df.select(\"Admission_Deposit\").toPandas(),\n",
    "    y=\"Admission_Deposit\",\n",
    "    box=True,\n",
    ")\n",
    "\n",
    "fig.update_layout(\n",
    "    title=\"Distribution of Admission Deposits\",\n",
    "    yaxis_title=\"Admission Deposit\",\n",
    ")\n",
    "\n",
    "fig.write_html(\n",
    "    univariate_figure_path / \"admission_deposits_distribution.html\",\n",
    "    full_html=True,\n",
    "    include_plotlyjs=\"embed\",\n",
    ")"
   ]
  },
  {
   "cell_type": "markdown",
   "metadata": {
    "jukit_cell_id": "YcoaEnJrxH"
   },
   "source": [
    "## Distribution of Patient ID Counts"
   ]
  },
  {
   "cell_type": "code",
   "execution_count": 15,
   "metadata": {
    "execution": {
     "iopub.execute_input": "2025-08-09T22:34:09.373496Z",
     "iopub.status.busy": "2025-08-09T22:34:09.373376Z",
     "iopub.status.idle": "2025-08-09T22:34:09.682628Z",
     "shell.execute_reply": "2025-08-09T22:34:09.682168Z"
    },
    "jukit_cell_id": "XqcJVBQH9S"
   },
   "outputs": [],
   "source": [
    "patient_counts_df = df.groupBy(\"patientid\").agg(F.count(\"*\").alias(\"count\"))\n",
    "\n",
    "counts_of_counts_df = patient_counts_df.groupBy(\"count\").agg(\n",
    "    F.count(\"*\").alias(\"num_patientids\")\n",
    ")\n",
    "\n",
    "fig = px.scatter(\n",
    "    counts_of_counts_df.toPandas(),\n",
    "    x=\"count\",\n",
    "    y=\"num_patientids\",\n",
    "    labels={\n",
    "        \"count\": \"Number of Occurrences per Patient ID\",\n",
    "        \"num_patientids\": \"Number of Patient IDs\",\n",
    "    },\n",
    ")\n",
    "\n",
    "fig.update_layout(\n",
    "    title=\"Distribution of Patient ID Counts\",\n",
    ")\n",
    "\n",
    "fig.write_html(\n",
    "    univariate_figure_path / \"patient_id_count_distribution.html\",\n",
    "    full_html=True,\n",
    "    include_plotlyjs=\"embed\",\n",
    ")"
   ]
  }
 ],
 "metadata": {
  "anaconda-cloud": {},
  "kernelspec": {
   "display_name": "python",
   "language": "python",
   "name": "python3"
  },
  "language_info": {
   "codemirror_mode": {
    "name": "ipython",
    "version": 3
   },
   "file_extension": ".py",
   "mimetype": "text/x-python",
   "name": "python",
   "nbconvert_exporter": "python",
   "pygments_lexer": "ipython3",
   "version": "3.11.11"
  }
 },
 "nbformat": 4,
 "nbformat_minor": 4
}
